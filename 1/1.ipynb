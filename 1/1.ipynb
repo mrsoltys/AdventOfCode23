{
 "cells": [
  {
   "cell_type": "markdown",
   "id": "12ecdf92",
   "metadata": {},
   "source": [
    "the calibration value can be found by combining the first digit and the last digit (in that order) to form a single two-digit number.\n",
    "\n",
    "For example:\n",
    "\n",
    "1abc2\n",
    "pqr3stu8vwx\n",
    "a1b2c3d4e5f\n",
    "treb7uchet\n",
    "\n",
    "In this example, the calibration values of these four lines are 12, 38, 15, and 77. Adding these together produces 142."
   ]
  },
  {
   "cell_type": "code",
   "execution_count": 118,
   "id": "49203016",
   "metadata": {},
   "outputs": [
    {
     "name": "stdout",
     "output_type": "stream",
     "text": [
      "                                      value\n",
      "0                            shrzvdcghblt21\n",
      "1         sixdddkcqjdnzzrgfourxjtwosevenhg9\n",
      "2                      threevt1onegxgvc9flk\n",
      "3               7dmqzksnlcpbsqkzqlfour1four\n",
      "4                4seven9gdlnhqxfseven94five\n",
      "..                                      ...\n",
      "995                              23sd6nnspq\n",
      "996            nineeighttworhtvxdtxp8twoneh\n",
      "997  four3threeonehbfhttgn39sqpctngqmzkhttn\n",
      "998                        rphtbkncs4nznsix\n",
      "999                 6three2sixsix9eightfour\n",
      "\n",
      "[1000 rows x 1 columns]\n"
     ]
    }
   ],
   "source": [
    "import pandas as pd\n",
    "df = pd.read_table(\"1_data.txt\", delimiter=\" \")\n",
    " \n",
    "# display DataFrame\n",
    "print(df)"
   ]
  },
  {
   "cell_type": "markdown",
   "id": "abc3dcd3",
   "metadata": {},
   "source": [
    "Find first Digit.\n",
    "\n",
    "Use re.search to search for first digit. \"\\d\" is a number. Returns the first one.\n",
    ".group returns the digit as a string(isntead of the index and digit) and int converts to string.\n",
    "\n",
    "df.apply applys to every row of data frame, and axis=1 tells to do it by columns\n",
    "used lamba function x.value to get \"value\" column of dataframe\n"
   ]
  },
  {
   "cell_type": "code",
   "execution_count": 119,
   "id": "096faa26",
   "metadata": {},
   "outputs": [],
   "source": [
    "import re\n",
    "df['firstDigit']=df.apply(lambda x: int(re.search(r\"\\d\",x.value).group()),axis=1)"
   ]
  },
  {
   "cell_type": "markdown",
   "id": "df9c049c",
   "metadata": {},
   "source": [
    "To find the last digit, i'm just going to try to flip the string and do the same thing"
   ]
  },
  {
   "cell_type": "code",
   "execution_count": 120,
   "id": "3b5f2376",
   "metadata": {},
   "outputs": [],
   "source": [
    "df['nthDigit']=df.apply(lambda x: int(re.search(r\"\\d\",x.value[::-1]).group()),axis=1)"
   ]
  },
  {
   "cell_type": "code",
   "execution_count": 121,
   "id": "c44393c5",
   "metadata": {},
   "outputs": [],
   "source": [
    "df['Sum']=df.apply(lambda x: x.firstDigit*10+x.nthDigit,axis=1)"
   ]
  },
  {
   "cell_type": "code",
   "execution_count": 122,
   "id": "4a4b155b",
   "metadata": {},
   "outputs": [
    {
     "data": {
      "text/plain": [
       "55538"
      ]
     },
     "execution_count": 122,
     "metadata": {},
     "output_type": "execute_result"
    }
   ],
   "source": [
    "sum(df['Sum'])"
   ]
  },
  {
   "cell_type": "markdown",
   "id": "b51112fe",
   "metadata": {},
   "source": [
    "Part 2\n",
    "======\n",
    "Your calculation isn't quite right. It looks like some of the digits are actually spelled out with letters: one, two, three, four, five, six, seven, eight, and nine also count as valid \"digits\".\n",
    "\n",
    "damn it!\n",
    "--------\n",
    "after reading redit: it seems this problem is ill defined, as \"twone\" should be counted as 21. This is a bit ambigous. apparently they only did doubles, not triples like twoneightwo.  "
   ]
  },
  {
   "cell_type": "code",
   "execution_count": 123,
   "id": "2fa2f3ea",
   "metadata": {},
   "outputs": [
    {
     "data": {
      "text/html": [
       "<div>\n",
       "<style scoped>\n",
       "    .dataframe tbody tr th:only-of-type {\n",
       "        vertical-align: middle;\n",
       "    }\n",
       "\n",
       "    .dataframe tbody tr th {\n",
       "        vertical-align: top;\n",
       "    }\n",
       "\n",
       "    .dataframe thead th {\n",
       "        text-align: right;\n",
       "    }\n",
       "</style>\n",
       "<table border=\"1\" class=\"dataframe\">\n",
       "  <thead>\n",
       "    <tr style=\"text-align: right;\">\n",
       "      <th></th>\n",
       "      <th>value</th>\n",
       "      <th>firstDigit</th>\n",
       "      <th>nthDigit</th>\n",
       "      <th>Sum</th>\n",
       "    </tr>\n",
       "  </thead>\n",
       "  <tbody>\n",
       "    <tr>\n",
       "      <th>0</th>\n",
       "      <td>shrzvdcghblt21</td>\n",
       "      <td>2</td>\n",
       "      <td>1</td>\n",
       "      <td>21</td>\n",
       "    </tr>\n",
       "    <tr>\n",
       "      <th>1</th>\n",
       "      <td>sixdddkcqjdnzzrgfourxjtwosevenhg9</td>\n",
       "      <td>9</td>\n",
       "      <td>9</td>\n",
       "      <td>99</td>\n",
       "    </tr>\n",
       "    <tr>\n",
       "      <th>2</th>\n",
       "      <td>threevt1onegxgvc9flk</td>\n",
       "      <td>1</td>\n",
       "      <td>9</td>\n",
       "      <td>19</td>\n",
       "    </tr>\n",
       "    <tr>\n",
       "      <th>3</th>\n",
       "      <td>7dmqzksnlcpbsqkzqlfour1four</td>\n",
       "      <td>7</td>\n",
       "      <td>1</td>\n",
       "      <td>71</td>\n",
       "    </tr>\n",
       "    <tr>\n",
       "      <th>4</th>\n",
       "      <td>4seven9gdlnhqxfseven94five</td>\n",
       "      <td>4</td>\n",
       "      <td>4</td>\n",
       "      <td>44</td>\n",
       "    </tr>\n",
       "    <tr>\n",
       "      <th>...</th>\n",
       "      <td>...</td>\n",
       "      <td>...</td>\n",
       "      <td>...</td>\n",
       "      <td>...</td>\n",
       "    </tr>\n",
       "    <tr>\n",
       "      <th>995</th>\n",
       "      <td>23sd6nnspq</td>\n",
       "      <td>2</td>\n",
       "      <td>6</td>\n",
       "      <td>26</td>\n",
       "    </tr>\n",
       "    <tr>\n",
       "      <th>996</th>\n",
       "      <td>nineeighttworhtvxdtxp8twoneh</td>\n",
       "      <td>8</td>\n",
       "      <td>8</td>\n",
       "      <td>88</td>\n",
       "    </tr>\n",
       "    <tr>\n",
       "      <th>997</th>\n",
       "      <td>four3threeonehbfhttgn39sqpctngqmzkhttn</td>\n",
       "      <td>3</td>\n",
       "      <td>9</td>\n",
       "      <td>39</td>\n",
       "    </tr>\n",
       "    <tr>\n",
       "      <th>998</th>\n",
       "      <td>rphtbkncs4nznsix</td>\n",
       "      <td>4</td>\n",
       "      <td>4</td>\n",
       "      <td>44</td>\n",
       "    </tr>\n",
       "    <tr>\n",
       "      <th>999</th>\n",
       "      <td>6three2sixsix9eightfour</td>\n",
       "      <td>6</td>\n",
       "      <td>9</td>\n",
       "      <td>69</td>\n",
       "    </tr>\n",
       "  </tbody>\n",
       "</table>\n",
       "<p>1000 rows × 4 columns</p>\n",
       "</div>"
      ],
      "text/plain": [
       "                                      value  firstDigit  nthDigit  Sum\n",
       "0                            shrzvdcghblt21           2         1   21\n",
       "1         sixdddkcqjdnzzrgfourxjtwosevenhg9           9         9   99\n",
       "2                      threevt1onegxgvc9flk           1         9   19\n",
       "3               7dmqzksnlcpbsqkzqlfour1four           7         1   71\n",
       "4                4seven9gdlnhqxfseven94five           4         4   44\n",
       "..                                      ...         ...       ...  ...\n",
       "995                              23sd6nnspq           2         6   26\n",
       "996            nineeighttworhtvxdtxp8twoneh           8         8   88\n",
       "997  four3threeonehbfhttgn39sqpctngqmzkhttn           3         9   39\n",
       "998                        rphtbkncs4nznsix           4         4   44\n",
       "999                 6three2sixsix9eightfour           6         9   69\n",
       "\n",
       "[1000 rows x 4 columns]"
      ]
     },
     "execution_count": 123,
     "metadata": {},
     "output_type": "execute_result"
    }
   ],
   "source": [
    "df"
   ]
  },
  {
   "cell_type": "code",
   "execution_count": 124,
   "id": "15751c32",
   "metadata": {},
   "outputs": [
    {
     "data": {
      "text/plain": [
       "54875"
      ]
     },
     "execution_count": 124,
     "metadata": {},
     "output_type": "execute_result"
    }
   ],
   "source": [
    "# lazy solution to weird edge cases that I think are dumb\n",
    "df['value']=df.apply(lambda x: x.value.replace(\"oneight\",\"18\"),axis=1)\n",
    "df['value']=df.apply(lambda x: x.value.replace(\"twone\",\"21\"),axis=1)\n",
    "df['value']=df.apply(lambda x: x.value.replace(\"threeeight\",\"38\"),axis=1)\n",
    "df['value']=df.apply(lambda x: x.value.replace(\"fiveight\",\"58\"),axis=1)\n",
    "df['value']=df.apply(lambda x: x.value.replace(\"sevenine\",\"79\"),axis=1)\n",
    "df['value']=df.apply(lambda x: x.value.replace(\"eightwo\",\"82\"),axis=1)\n",
    "df['value']=df.apply(lambda x: x.value.replace(\"eighthree\",\"83\"),axis=1)\n",
    "df['value']=df.apply(lambda x: x.value.replace(\"nineight\",\"98\"),axis=1)\n",
    "\n",
    "\n",
    "df['value']=df.apply(lambda x: x.value.replace(\"one\",\"1\"),axis=1)\n",
    "df['value']=df.apply(lambda x: x.value.replace(\"two\",\"2\"),axis=1)\n",
    "df['value']=df.apply(lambda x: x.value.replace(\"three\",\"3\"),axis=1)\n",
    "df['value']=df.apply(lambda x: x.value.replace(\"four\",\"4\"),axis=1)\n",
    "df['value']=df.apply(lambda x: x.value.replace(\"five\",\"5\"),axis=1)\n",
    "df['value']=df.apply(lambda x: x.value.replace(\"six\",\"6\"),axis=1)\n",
    "df['value']=df.apply(lambda x: x.value.replace(\"seven\",\"7\"),axis=1)\n",
    "df['value']=df.apply(lambda x: x.value.replace(\"eight\",\"8\"),axis=1)\n",
    "df['value']=df.apply(lambda x: x.value.replace(\"nine\",\"9\"),axis=1)\n",
    "df['firstDigit']=df.apply(lambda x: int(re.search(r\"\\d\",x.value).group()),axis=1)\n",
    "df['nthDigit']=df.apply(lambda x: int(re.search(r\"\\d\",x.value[::-1]).group()),axis=1)\n",
    "df['Sum']=df.apply(lambda x: x.firstDigit*10+x.nthDigit,axis=1)\n",
    "sum(df['Sum'])"
   ]
  },
  {
   "cell_type": "code",
   "execution_count": 125,
   "id": "2c206f7f",
   "metadata": {},
   "outputs": [
    {
     "data": {
      "text/plain": [
       "value         752\n",
       "firstDigit      7\n",
       "nthDigit        2\n",
       "Sum            72\n",
       "Name: 50, dtype: object"
      ]
     },
     "execution_count": 125,
     "metadata": {},
     "output_type": "execute_result"
    }
   ],
   "source": [
    "df.iloc[50]"
   ]
  },
  {
   "cell_type": "code",
   "execution_count": null,
   "id": "5fff8d74",
   "metadata": {},
   "outputs": [],
   "source": []
  }
 ],
 "metadata": {
  "kernelspec": {
   "display_name": "Python 3 (ipykernel)",
   "language": "python",
   "name": "python3"
  },
  "language_info": {
   "codemirror_mode": {
    "name": "ipython",
    "version": 3
   },
   "file_extension": ".py",
   "mimetype": "text/x-python",
   "name": "python",
   "nbconvert_exporter": "python",
   "pygments_lexer": "ipython3",
   "version": "3.9.7"
  }
 },
 "nbformat": 4,
 "nbformat_minor": 5
}
