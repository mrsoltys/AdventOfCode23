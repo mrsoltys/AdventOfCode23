{
 "cells": [
  {
   "cell_type": "markdown",
   "id": "d1d9aa9e",
   "metadata": {},
   "source": [
    "Day 6\n",
    "=====\n",
    "\n",
    "The organizer brings you over to the area where the boat races are held. The boats are much smaller than you expected - they're actually toy boats, each with a big button on top. Holding down the button charges the boat, and releasing the button allows the boat to move. Boats move faster if their button was held longer, but time spent holding the button counts against the total race time. You can only hold the button at the start of the race, and boats don't move until the button is released.\n",
    "\n",
    "For example:\n",
    "\n",
    "    Time:      7  15   30\n",
    "    Distance:  9  40  200\n",
    "\n",
    "This document describes three races:\n",
    "\n",
    "The first race lasts 7 milliseconds. The record distance in this race is 9 millimeters.\n",
    "The second race lasts 15 milliseconds. The record distance in this race is 40 millimeters.\n",
    "The third race lasts 30 milliseconds. The record distance in this race is 200 millimeters.\n",
    "Your toy boat has a starting speed of zero millimeters per millisecond. For each whole millisecond you spend at the beginning of the race holding down the button, the boat's speed increases by one millimeter per millisecond.\n",
    "\n",
    "So, because the first race lasts 7 milliseconds, you only have a few options:\n",
    "\n",
    "* Don't hold the button at all (that is, hold it for 0 milliseconds) at the start of the race. The boat won't move; it will have traveled 0 millimeters by the end of the race.\n",
    "* Hold the button for 1 millisecond at the start of the race. Then, the boat will travel at a speed of 1 millimeter per millisecond for 6 milliseconds, reaching a total distance traveled of 6 millimeters.\n",
    "* Hold the button for 2 milliseconds, giving the boat a speed of 2 millimeters per millisecond. It will then get 5 milliseconds to move, reaching a total distance of 10 millimeters.\n",
    "* Hold the button for 3 milliseconds. After its remaining 4 milliseconds of travel time, the boat will have gone 12 millimeters.\n",
    "* Hold the button for 4 milliseconds. After its remaining 3 milliseconds of travel time, the boat will have gone 12 millimeters.\n",
    "* Hold the button for 5 milliseconds, causing the boat to travel a total of 10 millimeters.\n",
    "* Hold the button for 6 milliseconds, causing the boat to travel a total of 6 millimeters.\n",
    "* Hold the button for 7 milliseconds. That's the entire duration of the race. You never let go of the button. The boat can't move until you let go of the button. Please make sure you let go of the button so the boat gets to move. 0 millimeters.\n",
    "\n",
    "Since the current record for this race is 9 millimeters, there are actually 4 different ways you could win: you could hold the button for 2, 3, 4, or 5 milliseconds at the start of the race.\n",
    "\n",
    "In the second race, you could hold the button for at least 4 milliseconds and at most 11 milliseconds and beat the record, a total of 8 different ways to win.\n",
    "\n",
    "In the third race, you could hold the button for at least 11 milliseconds and no more than 19 milliseconds and still beat the record, a total of 9 ways you could win.\n",
    "\n",
    "To see how much margin of error you have, determine the number of ways you can beat the record in each race; in this example, if you multiply these values together, you get 288 (4 * 8 * 9).\n",
    "\n",
    "Determine the number of ways you could beat the record in each race. What do you get if you multiply these numbers together?"
   ]
  },
  {
   "cell_type": "markdown",
   "id": "75df5e32",
   "metadata": {},
   "source": [
    "some notes:\n",
    "-----------\n",
    "Race Time:   $t_r$\n",
    "\n",
    "Button Time: $t_b$\n",
    "\n",
    "Moving Time: $t_r-t_b$\n",
    "\n",
    "velocity: $v=t_b*1$\n",
    "\n",
    "Distance Traveled: $\\Delta x = (t_r-t_b)*t_b $\n",
    "\n",
    "Therefore, the two roots to tie are:\n",
    "$$\n",
    "t_b=1/2 \\left(t_r \\pm \\sqrt{r^2-4*\\Delta x}\\right)\n",
    "$$\n",
    "\n",
    "(https://www.wolframalpha.com/input?i=solve+x%3D%28r-b%29*b+for+b)\n",
    "\n",
    "In the races described above the solutions are:\n",
    "\n",
    "|          | Race 1  | Race 2   | Race 3\n",
    "| -------- | ------- | ------   | ------\n",
    "| Time     | 7       | 15       | 30\n",
    "| Distance | 9       | 40       | 200\n",
    "| Roots    | 1.7, 5.3| 3.5, 11.5| 10,20\n",
    "\n",
    "Note: Race 3 is an interesting edge case, because 10 and 20 are ties, not wins, but still integers. This makes the math a bit funny, but not hard"
   ]
  },
  {
   "cell_type": "markdown",
   "id": "f30961a0",
   "metadata": {},
   "source": [
    "New table based on Input file\n",
    "==========\n",
    "\n",
    "|          | Race 1  | Race 2   | Race 3 | Race 4\n",
    "| -------- | ------- | ------   | ------ | ------\n",
    "| Time     | 48      | 93       | 84     | 66\n",
    "| Distance |  261    | 1192     | 1019   | 1063\n",
    "| Roots    | 6.3, 41.7| 15.4, 77.7| 14.7,69.3 | 27.9,38.1\n",
    "| Ways to win| 35 | 62 | 55 | 11\n",
    "\n",
    "$35*62*55*11=1312850$\n"
   ]
  },
  {
   "cell_type": "markdown",
   "id": "f83031bb",
   "metadata": {},
   "source": [
    "Part 2 is same as part 1, with different input. Trivial solution, see excel file. "
   ]
  },
  {
   "cell_type": "code",
   "execution_count": null,
   "id": "fab20bcc",
   "metadata": {},
   "outputs": [],
   "source": []
  }
 ],
 "metadata": {
  "kernelspec": {
   "display_name": "Python 3 (ipykernel)",
   "language": "python",
   "name": "python3"
  },
  "language_info": {
   "codemirror_mode": {
    "name": "ipython",
    "version": 3
   },
   "file_extension": ".py",
   "mimetype": "text/x-python",
   "name": "python",
   "nbconvert_exporter": "python",
   "pygments_lexer": "ipython3",
   "version": "3.9.7"
  }
 },
 "nbformat": 4,
 "nbformat_minor": 5
}
