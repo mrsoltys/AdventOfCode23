{
 "cells": [
  {
   "cell_type": "markdown",
   "id": "7f0101a5",
   "metadata": {},
   "source": [
    "Day 5\n",
    "=====\n",
    "\n",
    "First file is seeds. Each addtional file is a map:\n",
    "\n",
    "seed->soil\n",
    "\n",
    "soil->fert\n",
    "\n",
    "fert->water\n",
    "\n",
    "water->light\n",
    "\n",
    "light->temp\n",
    "\n",
    "temp->humid\n",
    "\n",
    "humid->location\n",
    "\n",
    "All maps are arranged dest start, source start, range\n",
    "\n",
    "e.g.,\n",
    "\n",
    "    50 98 2\n",
    "    52 50 48\n",
    "\n",
    "The first line has a destination range start of 50, a source range start of 98, and a range length of 2. This line means that the source range starts at 98 and contains two values: 98 and 99. The destination range is the same length, but it starts at 50, so its two values are 50 and 51. With this information, you know that seed number 98 corresponds to soil number 50 and that seed number 99 corresponds to soil number 51.\n",
    "\n",
    "The second line means that the source range starts at 50 and contains 48 values: 50, 51, ..., 96, 97. This corresponds to a destination range starting at 52 and also containing 48 values: 52, 53, ..., 98, 99. So, seed number 53 corresponds to soil number 55.\n",
    "\n",
    "find the lowest location number that corresponds to any of the initial seeds"
   ]
  },
  {
   "cell_type": "code",
   "execution_count": 1,
   "id": "f55bdc3d",
   "metadata": {},
   "outputs": [],
   "source": [
    "import numpy as np\n",
    "import pandas as pd\n",
    "n = np.loadtxt(\"5_seeds.txt\", dtype = int,comments=None)\n",
    "df=pd.DataFrame ({\"Seeds\": n})\n",
    "\n",
    "#This function will do the mapping\n",
    "def mapperFun(x,sendArray):\n",
    "    for i in range(len(sendArray)):\n",
    "        if (x>=sendArray[i][1] and x<(sendArray[i][1]+sendArray[i][2])):\n",
    "            return (x-sendArray[i][1]+sendArray[i][0])\n",
    "    return x"
   ]
  },
  {
   "cell_type": "code",
   "execution_count": 2,
   "id": "dbac404c",
   "metadata": {},
   "outputs": [],
   "source": [
    "seeds2soil = np.loadtxt(\"5_seed2soil.txt\", dtype = int,comments=None)\n",
    "df[\"Soil\"]=df.apply(lambda x: mapperFun(x.Seeds,seeds2soil),axis=1)\n",
    "\n",
    "soil2fert = np.loadtxt(\"5_soil2fert.txt\", dtype = int,comments=None)\n",
    "df[\"Fert\"]=df.apply(lambda x: mapperFun(x.Soil,soil2fert),axis=1)\n",
    "\n",
    "fert2water = np.loadtxt(\"5_fert2water.txt\", dtype = int,comments=None)\n",
    "df[\"Water\"]=df.apply(lambda x: mapperFun(x.Fert,fert2water),axis=1)\n",
    "\n",
    "water2light = np.loadtxt(\"5_water2light.txt\", dtype = int,comments=None)\n",
    "df[\"Light\"]=df.apply(lambda x: mapperFun(x.Water,water2light),axis=1)\n",
    "\n",
    "light2temp = np.loadtxt(\"5_light2temp.text\", dtype = int,comments=None)\n",
    "df[\"Temp\"]=df.apply(lambda x: mapperFun(x.Light,light2temp),axis=1)\n",
    "\n",
    "temp2hum = np.loadtxt(\"5_temp2hum.txt\", dtype = int,comments=None)\n",
    "df[\"Hum\"]=df.apply(lambda x: mapperFun(x.Temp,temp2hum),axis=1)\n",
    "\n",
    "hum2loc = np.loadtxt(\"5_hum2loc.txt\", dtype = int,comments=None)\n",
    "df[\"Loc\"]=df.apply(lambda x: mapperFun(x.Hum,hum2loc),axis=1)"
   ]
  },
  {
   "cell_type": "code",
   "execution_count": 3,
   "id": "d9c25495",
   "metadata": {},
   "outputs": [
    {
     "data": {
      "text/plain": [
       "196167384"
      ]
     },
     "execution_count": 3,
     "metadata": {},
     "output_type": "execute_result"
    }
   ],
   "source": [
    "min(df[\"Loc\"])"
   ]
  },
  {
   "cell_type": "markdown",
   "id": "13eef808",
   "metadata": {},
   "source": [
    "Part 2\n",
    "======"
   ]
  },
  {
   "cell_type": "code",
   "execution_count": 4,
   "id": "bc69a06d",
   "metadata": {},
   "outputs": [],
   "source": [
    "#m=[79, 14, 55, 13]   #for testing\n",
    "seeds=[] \n",
    "\n",
    "for i in range(0,len(n),2):\n",
    "    seeds=np.append(seeds, np.linspace(n[i],n[i]+n[i+1]-1,n[i+1]) )\n",
    "#headsup this takes forever! I'm obviously missing something... "
   ]
  },
  {
   "cell_type": "code",
   "execution_count": 2,
   "id": "a23c8abf",
   "metadata": {},
   "outputs": [
    {
     "ename": "NameError",
     "evalue": "name 'seeds' is not defined",
     "output_type": "error",
     "traceback": [
      "\u001b[0;31m---------------------------------------------------------------------------\u001b[0m",
      "\u001b[0;31mNameError\u001b[0m                                 Traceback (most recent call last)",
      "\u001b[0;32m/var/folders/_0/s536hr091bx5kd96kpsd11t40000gn/T/ipykernel_68071/3251003142.py\u001b[0m in \u001b[0;36m<module>\u001b[0;34m\u001b[0m\n\u001b[0;32m----> 1\u001b[0;31m \u001b[0mseeds\u001b[0m\u001b[0;34m\u001b[0m\u001b[0;34m\u001b[0m\u001b[0m\n\u001b[0m",
      "\u001b[0;31mNameError\u001b[0m: name 'seeds' is not defined"
     ]
    }
   ],
   "source": []
  },
  {
   "cell_type": "code",
   "execution_count": 1,
   "id": "e4c9d327",
   "metadata": {},
   "outputs": [
    {
     "ename": "NameError",
     "evalue": "name 'pd' is not defined",
     "output_type": "error",
     "traceback": [
      "\u001b[0;31m---------------------------------------------------------------------------\u001b[0m",
      "\u001b[0;31mNameError\u001b[0m                                 Traceback (most recent call last)",
      "\u001b[0;32m/var/folders/_0/s536hr091bx5kd96kpsd11t40000gn/T/ipykernel_68071/1665310983.py\u001b[0m in \u001b[0;36m<module>\u001b[0;34m\u001b[0m\n\u001b[0;32m----> 1\u001b[0;31m \u001b[0mdf\u001b[0m\u001b[0;34m=\u001b[0m\u001b[0mpd\u001b[0m\u001b[0;34m.\u001b[0m\u001b[0mDataFrame\u001b[0m \u001b[0;34m(\u001b[0m\u001b[0;34m{\u001b[0m\u001b[0;34m\"Seeds\"\u001b[0m\u001b[0;34m:\u001b[0m \u001b[0mseeds\u001b[0m\u001b[0;34m}\u001b[0m\u001b[0;34m)\u001b[0m\u001b[0;34m\u001b[0m\u001b[0;34m\u001b[0m\u001b[0m\n\u001b[0m\u001b[1;32m      2\u001b[0m \u001b[0mseeds2soil\u001b[0m \u001b[0;34m=\u001b[0m \u001b[0mnp\u001b[0m\u001b[0;34m.\u001b[0m\u001b[0mloadtxt\u001b[0m\u001b[0;34m(\u001b[0m\u001b[0;34m\"5_seed2soil.txt\"\u001b[0m\u001b[0;34m,\u001b[0m \u001b[0mdtype\u001b[0m \u001b[0;34m=\u001b[0m \u001b[0mint\u001b[0m\u001b[0;34m,\u001b[0m\u001b[0mcomments\u001b[0m\u001b[0;34m=\u001b[0m\u001b[0;32mNone\u001b[0m\u001b[0;34m)\u001b[0m\u001b[0;34m\u001b[0m\u001b[0;34m\u001b[0m\u001b[0m\n\u001b[1;32m      3\u001b[0m \u001b[0mdf\u001b[0m\u001b[0;34m[\u001b[0m\u001b[0;34m\"Soil\"\u001b[0m\u001b[0;34m]\u001b[0m\u001b[0;34m=\u001b[0m\u001b[0mdf\u001b[0m\u001b[0;34m.\u001b[0m\u001b[0mapply\u001b[0m\u001b[0;34m(\u001b[0m\u001b[0;32mlambda\u001b[0m \u001b[0mx\u001b[0m\u001b[0;34m:\u001b[0m \u001b[0mmapperFun\u001b[0m\u001b[0;34m(\u001b[0m\u001b[0mx\u001b[0m\u001b[0;34m.\u001b[0m\u001b[0mSeeds\u001b[0m\u001b[0;34m,\u001b[0m\u001b[0mseeds2soil\u001b[0m\u001b[0;34m)\u001b[0m\u001b[0;34m,\u001b[0m\u001b[0maxis\u001b[0m\u001b[0;34m=\u001b[0m\u001b[0;36m1\u001b[0m\u001b[0;34m)\u001b[0m\u001b[0;34m\u001b[0m\u001b[0;34m\u001b[0m\u001b[0m\n\u001b[1;32m      4\u001b[0m \u001b[0;34m\u001b[0m\u001b[0m\n\u001b[1;32m      5\u001b[0m \u001b[0msoil2fert\u001b[0m \u001b[0;34m=\u001b[0m \u001b[0mnp\u001b[0m\u001b[0;34m.\u001b[0m\u001b[0mloadtxt\u001b[0m\u001b[0;34m(\u001b[0m\u001b[0;34m\"5_soil2fert.txt\"\u001b[0m\u001b[0;34m,\u001b[0m \u001b[0mdtype\u001b[0m \u001b[0;34m=\u001b[0m \u001b[0mint\u001b[0m\u001b[0;34m,\u001b[0m\u001b[0mcomments\u001b[0m\u001b[0;34m=\u001b[0m\u001b[0;32mNone\u001b[0m\u001b[0;34m)\u001b[0m\u001b[0;34m\u001b[0m\u001b[0;34m\u001b[0m\u001b[0m\n",
      "\u001b[0;31mNameError\u001b[0m: name 'pd' is not defined"
     ]
    }
   ],
   "source": [
    "df=pd.DataFrame ({\"Seeds\": seeds})\n",
    "seeds2soil = np.loadtxt(\"5_seed2soil.txt\", dtype = int,comments=None)\n",
    "df[\"Soil\"]=df.apply(lambda x: mapperFun(x.Seeds,seeds2soil),axis=1)\n",
    "\n",
    "soil2fert = np.loadtxt(\"5_soil2fert.txt\", dtype = int,comments=None)\n",
    "df[\"Fert\"]=df.apply(lambda x: mapperFun(x.Soil,soil2fert),axis=1)\n",
    "\n",
    "fert2water = np.loadtxt(\"5_fert2water.txt\", dtype = int,comments=None)\n",
    "df[\"Water\"]=df.apply(lambda x: mapperFun(x.Fert,fert2water),axis=1)\n",
    "\n",
    "water2light = np.loadtxt(\"5_water2light.txt\", dtype = int,comments=None)\n",
    "df[\"Light\"]=df.apply(lambda x: mapperFun(x.Water,water2light),axis=1)\n",
    "\n",
    "light2temp = np.loadtxt(\"5_light2temp.text\", dtype = int,comments=None)\n",
    "df[\"Temp\"]=df.apply(lambda x: mapperFun(x.Light,light2temp),axis=1)\n",
    "\n",
    "temp2hum = np.loadtxt(\"5_temp2hum.txt\", dtype = int,comments=None)\n",
    "df[\"Hum\"]=df.apply(lambda x: mapperFun(x.Temp,temp2hum),axis=1)\n",
    "\n",
    "hum2loc = np.loadtxt(\"5_hum2loc.txt\", dtype = int,comments=None)\n",
    "df[\"Loc\"]=df.apply(lambda x: mapperFun(x.Hum,hum2loc),axis=1)"
   ]
  },
  {
   "cell_type": "code",
   "execution_count": null,
   "id": "7e1e1d3b",
   "metadata": {},
   "outputs": [],
   "source": [
    "min(df[\"Loc\"])"
   ]
  },
  {
   "cell_type": "markdown",
   "id": "886483d3",
   "metadata": {},
   "source": [
    "Ok... That is taking way too long. 1,951,135,283 (2 BILLION!) rows :.) \n",
    "maybe i can work backwards... I want the lowest location so i'll start by sorting that mapping\n"
   ]
  },
  {
   "cell_type": "code",
   "execution_count": 9,
   "id": "410face2",
   "metadata": {},
   "outputs": [
    {
     "data": {
      "text/plain": [
       "[array([         0, 1639932830,  187421121]),\n",
       " array([187421121, 276160075, 171076082]),\n",
       " array([ 358497203, 1012762605,  163293355]),\n",
       " array([521790558, 232394351,  43765724]),\n",
       " array([565556282, 224750566,   7643785]),\n",
       " array([573200067,         0,  23652296]),\n",
       " array([ 596852363, 1585957916,   53974914]),\n",
       " array([ 650827277, 1396448131,  189509785]),\n",
       " array([ 840337062, 1827353951,   64247170]),\n",
       " array([ 904584232, 1176055960,  117301258]),\n",
       " array([1021885490, 1293357218,  103090913]),\n",
       " array([1124976403, 1891601121,  169224107]),\n",
       " array([1294200510,   23652296,  201098270]),\n",
       " array([1495298780,  447236157,  565526448]),\n",
       " array([2177370950, 4100409404,  127152021]),\n",
       " array([2304522971, 2377882496,  116771158]),\n",
       " array([2421294129, 2789610530,   69756625]),\n",
       " array([2491050754, 3106979484,  131101580]),\n",
       " array([2622152334, 4006190278,   94219126]),\n",
       " array([2716371460, 3238081064,  142806662]),\n",
       " array([2859178122, 2177370950,    6068675]),\n",
       " array([2865246797, 3380887726,  170016558]),\n",
       " array([3035263355, 2859367155,  247612329]),\n",
       " array([3282875684, 3954902589,   51287689]),\n",
       " array([3334163373, 3550904284,  244210210]),\n",
       " array([3578373583, 4227561425,    8426352]),\n",
       " array([3586799935, 2183439625,  194442871]),\n",
       " array([3781242806, 3946119949,    8782640]),\n",
       " array([3790025446, 4246112611,   48854685]),\n",
       " array([3838880131, 4235987777,   10124834]),\n",
       " array([3849004965, 2494653654,  294956876]),\n",
       " array([4143961841, 3795114494,  151005455])]"
      ]
     },
     "execution_count": 9,
     "metadata": {},
     "output_type": "execute_result"
    }
   ],
   "source": [
    "sorted(hum2loc,key=lambda x: x[0])"
   ]
  },
  {
   "cell_type": "code",
   "execution_count": 10,
   "id": "affecad1",
   "metadata": {},
   "outputs": [
    {
     "data": {
      "text/plain": [
       "array([[ 358497203, 1012762605,  163293355],\n",
       "       [3035263355, 2859367155,  247612329],\n",
       "       [1021885490, 1293357218,  103090913],\n",
       "       [4143961841, 3795114494,  151005455],\n",
       "       [3578373583, 4227561425,    8426352],\n",
       "       [2859178122, 2177370950,    6068675],\n",
       "       [         0, 1639932830,  187421121],\n",
       "       [ 521790558,  232394351,   43765724],\n",
       "       [3838880131, 4235987777,   10124834],\n",
       "       [1294200510,   23652296,  201098270],\n",
       "       [2865246797, 3380887726,  170016558],\n",
       "       [2177370950, 4100409404,  127152021],\n",
       "       [3282875684, 3954902589,   51287689],\n",
       "       [1124976403, 1891601121,  169224107],\n",
       "       [3334163373, 3550904284,  244210210],\n",
       "       [ 565556282,  224750566,    7643785],\n",
       "       [3586799935, 2183439625,  194442871],\n",
       "       [ 573200067,          0,   23652296],\n",
       "       [3781242806, 3946119949,    8782640],\n",
       "       [2716371460, 3238081064,  142806662],\n",
       "       [2304522971, 2377882496,  116771158],\n",
       "       [3790025446, 4246112611,   48854685],\n",
       "       [1495298780,  447236157,  565526448],\n",
       "       [ 596852363, 1585957916,   53974914],\n",
       "       [ 840337062, 1827353951,   64247170],\n",
       "       [ 187421121,  276160075,  171076082],\n",
       "       [2622152334, 4006190278,   94219126],\n",
       "       [2491050754, 3106979484,  131101580],\n",
       "       [ 650827277, 1396448131,  189509785],\n",
       "       [2421294129, 2789610530,   69756625],\n",
       "       [3849004965, 2494653654,  294956876],\n",
       "       [ 904584232, 1176055960,  117301258]])"
      ]
     },
     "execution_count": 10,
     "metadata": {},
     "output_type": "execute_result"
    }
   ],
   "source": [
    "sorted()"
   ]
  },
  {
   "cell_type": "code",
   "execution_count": null,
   "id": "a47850f3",
   "metadata": {},
   "outputs": [],
   "source": []
  }
 ],
 "metadata": {
  "kernelspec": {
   "display_name": "Python 3 (ipykernel)",
   "language": "python",
   "name": "python3"
  },
  "language_info": {
   "codemirror_mode": {
    "name": "ipython",
    "version": 3
   },
   "file_extension": ".py",
   "mimetype": "text/x-python",
   "name": "python",
   "nbconvert_exporter": "python",
   "pygments_lexer": "ipython3",
   "version": "3.9.7"
  }
 },
 "nbformat": 4,
 "nbformat_minor": 5
}
