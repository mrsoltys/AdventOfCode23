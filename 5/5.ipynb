{
 "cells": [
  {
   "cell_type": "markdown",
   "id": "7f0101a5",
   "metadata": {},
   "source": [
    "Day 5\n",
    "=====\n",
    "\n",
    "First file is seeds. Each addtional file is a map:\n",
    "\n",
    "seed->soil\n",
    "\n",
    "soil->fert\n",
    "\n",
    "fert->water\n",
    "\n",
    "water->light\n",
    "\n",
    "light->temp\n",
    "\n",
    "temp->humid\n",
    "\n",
    "humid->location\n",
    "\n",
    "All maps are arranged dest start, source start, range\n",
    "\n",
    "e.g.,\n",
    "\n",
    "    50 98 2\n",
    "    52 50 48\n",
    "\n",
    "The first line has a destination range start of 50, a source range start of 98, and a range length of 2. This line means that the source range starts at 98 and contains two values: 98 and 99. The destination range is the same length, but it starts at 50, so its two values are 50 and 51. With this information, you know that seed number 98 corresponds to soil number 50 and that seed number 99 corresponds to soil number 51.\n",
    "\n",
    "The second line means that the source range starts at 50 and contains 48 values: 50, 51, ..., 96, 97. This corresponds to a destination range starting at 52 and also containing 48 values: 52, 53, ..., 98, 99. So, seed number 53 corresponds to soil number 55.\n",
    "\n",
    "find the lowest location number that corresponds to any of the initial seeds"
   ]
  },
  {
   "cell_type": "code",
   "execution_count": 1,
   "id": "f55bdc3d",
   "metadata": {},
   "outputs": [],
   "source": [
    "import numpy as np\n",
    "import pandas as pd\n",
    "n = np.loadtxt(\"5_seeds.txt\", dtype = int,comments=None)\n",
    "df=pd.DataFrame ({\"Seeds\": n})\n",
    "\n",
    "#This function will do the mapping\n",
    "def mapperFun(x,sendArray):\n",
    "    for i in range(len(sendArray)):\n",
    "        if (x>=sendArray[i][1] and x<(sendArray[i][1]+sendArray[i][2])):\n",
    "            return (x-sendArray[i][1]+sendArray[i][0])\n",
    "    return x"
   ]
  },
  {
   "cell_type": "code",
   "execution_count": 2,
   "id": "dbac404c",
   "metadata": {},
   "outputs": [],
   "source": [
    "seeds2soil = np.loadtxt(\"5_seed2soil.txt\", dtype = int,comments=None)\n",
    "df[\"Soil\"]=df.apply(lambda x: mapperFun(x.Seeds,seeds2soil),axis=1)\n",
    "\n",
    "soil2fert = np.loadtxt(\"5_soil2fert.txt\", dtype = int,comments=None)\n",
    "df[\"Fert\"]=df.apply(lambda x: mapperFun(x.Soil,soil2fert),axis=1)\n",
    "\n",
    "fert2water = np.loadtxt(\"5_fert2water.txt\", dtype = int,comments=None)\n",
    "df[\"Water\"]=df.apply(lambda x: mapperFun(x.Fert,fert2water),axis=1)\n",
    "\n",
    "water2light = np.loadtxt(\"5_water2light.txt\", dtype = int,comments=None)\n",
    "df[\"Light\"]=df.apply(lambda x: mapperFun(x.Water,water2light),axis=1)\n",
    "\n",
    "light2temp = np.loadtxt(\"5_light2temp.text\", dtype = int,comments=None)\n",
    "df[\"Temp\"]=df.apply(lambda x: mapperFun(x.Light,light2temp),axis=1)\n",
    "\n",
    "temp2hum = np.loadtxt(\"5_temp2hum.txt\", dtype = int,comments=None)\n",
    "df[\"Hum\"]=df.apply(lambda x: mapperFun(x.Temp,temp2hum),axis=1)\n",
    "\n",
    "hum2loc = np.loadtxt(\"5_hum2loc.txt\", dtype = int,comments=None)\n",
    "df[\"Loc\"]=df.apply(lambda x: mapperFun(x.Hum,hum2loc),axis=1)"
   ]
  },
  {
   "cell_type": "code",
   "execution_count": 3,
   "id": "d9c25495",
   "metadata": {},
   "outputs": [
    {
     "data": {
      "text/plain": [
       "196167384"
      ]
     },
     "execution_count": 3,
     "metadata": {},
     "output_type": "execute_result"
    }
   ],
   "source": [
    "min(df[\"Loc\"])"
   ]
  },
  {
   "cell_type": "markdown",
   "id": "13eef808",
   "metadata": {},
   "source": [
    "Part 2\n",
    "======"
   ]
  },
  {
   "cell_type": "code",
   "execution_count": 4,
   "id": "bc69a06d",
   "metadata": {},
   "outputs": [],
   "source": [
    "#m=[79, 14, 55, 13]   #for testing\n",
    "seeds=[] \n",
    "\n",
    "for i in range(0,len(n),2):\n",
    "    seeds=np.append(seeds, np.linspace(n[i],n[i]+n[i+1]-1,n[i+1]) )\n",
    "#headsup this takes forever! I'm obviously missing something... \n",
    "#Note: This results in about 2 Billion rows to sort... and probably will take too long to run."
   ]
  },
  {
   "cell_type": "code",
   "execution_count": null,
   "id": "e4c9d327",
   "metadata": {},
   "outputs": [],
   "source": [
    "df=pd.DataFrame ({\"Seeds\": seeds})\n",
    "df[\"Soil\"]=df.apply(lambda x: mapperFun(x.Seeds,seeds2soil),axis=1)\n",
    "\n",
    "df[\"Fert\"]=df.apply(lambda x: mapperFun(x.Soil,soil2fert),axis=1)\n",
    "\n",
    "df[\"Water\"]=df.apply(lambda x: mapperFun(x.Fert,fert2water),axis=1)\n",
    "\n",
    "df[\"Light\"]=df.apply(lambda x: mapperFun(x.Water,water2light),axis=1)\n",
    "\n",
    "df[\"Temp\"]=df.apply(lambda x: mapperFun(x.Light,light2temp),axis=1)\n",
    "\n",
    "df[\"Hum\"]=df.apply(lambda x: mapperFun(x.Temp,temp2hum),axis=1)\n",
    "\n",
    "df[\"Loc\"]=df.apply(lambda x: mapperFun(x.Hum,hum2loc),axis=1)"
   ]
  },
  {
   "cell_type": "code",
   "execution_count": null,
   "id": "7e1e1d3b",
   "metadata": {},
   "outputs": [],
   "source": [
    "min(df[\"Loc\"])"
   ]
  },
  {
   "cell_type": "markdown",
   "id": "886483d3",
   "metadata": {},
   "source": [
    "Ok... That is taking way too long. 1,951,135,283 (2 BILLION!) rows :.) \n",
    "maybe i can work backwards... I want the lowest location so i'll start by sorting that mapping\n",
    "\n",
    "I can just map the starting locations, and ending locations, and midpoints where things split?\n"
   ]
  },
  {
   "cell_type": "code",
   "execution_count": null,
   "id": "410face2",
   "metadata": {},
   "outputs": [],
   "source": [
    "sorted(hum2loc,key=lambda x: x[0])"
   ]
  }
 ],
 "metadata": {
  "kernelspec": {
   "display_name": "Python 3 (ipykernel)",
   "language": "python",
   "name": "python3"
  },
  "language_info": {
   "codemirror_mode": {
    "name": "ipython",
    "version": 3
   },
   "file_extension": ".py",
   "mimetype": "text/x-python",
   "name": "python",
   "nbconvert_exporter": "python",
   "pygments_lexer": "ipython3",
   "version": "3.9.7"
  }
 },
 "nbformat": 4,
 "nbformat_minor": 5
}
