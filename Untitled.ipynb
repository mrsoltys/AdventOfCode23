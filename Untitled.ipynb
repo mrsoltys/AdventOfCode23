{
 "cells": [
  {
   "cell_type": "markdown",
   "id": "6defe689",
   "metadata": {},
   "source": [
    "the calibration value can be found by combining the first digit and the last digit (in that order) to form a single two-digit number.\n",
    "\n",
    "For example:\n",
    "\n",
    "1abc2\n",
    "pqr3stu8vwx\n",
    "a1b2c3d4e5f\n",
    "treb7uchet\n",
    "\n",
    "In this example, the calibration values of these four lines are 12, 38, 15, and 77. Adding these together produces 142."
   ]
  },
  {
   "cell_type": "code",
   "execution_count": 1,
   "id": "35e6dd6e",
   "metadata": {},
   "outputs": [
    {
     "name": "stdout",
     "output_type": "stream",
     "text": [
      "                                      value\n",
      "0                            shrzvdcghblt21\n",
      "1         sixdddkcqjdnzzrgfourxjtwosevenhg9\n",
      "2                      threevt1onegxgvc9flk\n",
      "3               7dmqzksnlcpbsqkzqlfour1four\n",
      "4                4seven9gdlnhqxfseven94five\n",
      "..                                      ...\n",
      "995                              23sd6nnspq\n",
      "996            nineeighttworhtvxdtxp8twoneh\n",
      "997  four3threeonehbfhttgn39sqpctngqmzkhttn\n",
      "998                        rphtbkncs4nznsix\n",
      "999                 6three2sixsix9eightfour\n",
      "\n",
      "[1000 rows x 1 columns]\n"
     ]
    }
   ],
   "source": [
    "import pandas as pd\n",
    "df = pd.read_table(\"1_data.txt\", delimiter=\" \")\n",
    " \n",
    "# display DataFrame\n",
    "print(df)"
   ]
  },
  {
   "cell_type": "markdown",
   "id": "a56f2344",
   "metadata": {},
   "source": [
    "Find first Digit.\n",
    "\n",
    "Use re.search to search for first digit. \"\\d\" is a number. Returns the first one.\n",
    ".group returns the digit as a string(isntead of the index and digit) and int converts to string.\n",
    "\n",
    "df.apply applys to every row of data frame, and axis=1 tells to do it by columns\n",
    "used lamba function x.value to get \"value\" column of dataframe\n"
   ]
  },
  {
   "cell_type": "code",
   "execution_count": 41,
   "id": "0e15e2f6",
   "metadata": {},
   "outputs": [],
   "source": [
    "import re\n",
    "df['firstDigit']=df.apply(lambda x: int(re.search(r\"\\d\",x.value).group()),axis=1)"
   ]
  },
  {
   "cell_type": "markdown",
   "id": "5e5345bc",
   "metadata": {},
   "source": [
    "To find the last digit, i'm just going to try to flip the string and do the same thing"
   ]
  },
  {
   "cell_type": "code",
   "execution_count": 42,
   "id": "98153774",
   "metadata": {},
   "outputs": [],
   "source": [
    "df['nthDigit']=df.apply(lambda x: int(re.search(r\"\\d\",x.value[::-1]).group()),axis=1)"
   ]
  },
  {
   "cell_type": "code",
   "execution_count": 43,
   "id": "a5335af1",
   "metadata": {},
   "outputs": [],
   "source": [
    "df['Sum']=df.apply(lambda x: x.firstDigit*10+x.nthDigit,axis=1)"
   ]
  },
  {
   "cell_type": "code",
   "execution_count": 44,
   "id": "d85145fc",
   "metadata": {},
   "outputs": [
    {
     "data": {
      "text/plain": [
       "55538"
      ]
     },
     "execution_count": 44,
     "metadata": {},
     "output_type": "execute_result"
    }
   ],
   "source": [
    "sum(df['Sum'])"
   ]
  },
  {
   "cell_type": "code",
   "execution_count": null,
   "id": "e7c44723",
   "metadata": {},
   "outputs": [],
   "source": []
  }
 ],
 "metadata": {
  "kernelspec": {
   "display_name": "Python 3 (ipykernel)",
   "language": "python",
   "name": "python3"
  },
  "language_info": {
   "codemirror_mode": {
    "name": "ipython",
    "version": 3
   },
   "file_extension": ".py",
   "mimetype": "text/x-python",
   "name": "python",
   "nbconvert_exporter": "python",
   "pygments_lexer": "ipython3",
   "version": "3.9.7"
  }
 },
 "nbformat": 4,
 "nbformat_minor": 5
}
